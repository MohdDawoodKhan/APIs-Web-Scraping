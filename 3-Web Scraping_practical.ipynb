{
 "cells": [
  {
   "cell_type": "markdown",
   "id": "7f0ac2b1-c2c9-41ab-8f98-cda56d456936",
   "metadata": {},
   "source": [
    "# Web Scraping Lab"
   ]
  },
  {
   "cell_type": "markdown",
   "id": "eeebc90e-9091-428c-b518-fd47105dcf12",
   "metadata": {},
   "source": [
    "#### Import the required modules and functions"
   ]
  },
  {
   "cell_type": "code",
   "execution_count": 11,
   "id": "521f3a3b-859e-4465-afa2-45a17b5ebcd0",
   "metadata": {},
   "outputs": [],
   "source": [
    "from bs4 import BeautifulSoup # this module helps in web scrapping.\n",
    "import requests  # this module helps us to download a webpage\n",
    "import csv"
   ]
  },
  {
   "cell_type": "markdown",
   "id": "ce75803b-b93b-44be-a4ae-8d5df7c5c54e",
   "metadata": {},
   "source": [
    "##### Download the contents of the webpage"
   ]
  },
  {
   "cell_type": "code",
   "execution_count": 12,
   "id": "89086f80-451e-43cc-8f73-d09578d694b6",
   "metadata": {},
   "outputs": [],
   "source": [
    "url = \"http://www.ibm.com\"\n",
    "# get the contents of the webpage in text format and store in a variable called data\n",
    "data  = requests.get(url).text "
   ]
  },
  {
   "cell_type": "markdown",
   "id": "38032db4-339d-40ac-b2e9-4161553f5927",
   "metadata": {},
   "source": [
    "###### Create a soup object using the class BeautifulSoup"
   ]
  },
  {
   "cell_type": "code",
   "execution_count": 13,
   "id": "02d4f206-b092-4603-8692-bc0732504606",
   "metadata": {},
   "outputs": [],
   "source": [
    "soup = BeautifulSoup(data,\"html.parser\")  # create a soup object using the variable 'data'"
   ]
  },
  {
   "cell_type": "markdown",
   "id": "763d9dd6-1944-4993-8cfc-b84523acd4e1",
   "metadata": {},
   "source": [
    "###### Scrape all links"
   ]
  },
  {
   "cell_type": "code",
   "execution_count": null,
   "id": "fc1e25d2-d87f-4d4e-b6b5-e376911cbca7",
   "metadata": {},
   "outputs": [],
   "source": [
    "for link in soup.find_all('a'):  # in html anchor/link is represented by the tag <a>\n",
    "    print(link.get('href'))"
   ]
  },
  {
   "cell_type": "markdown",
   "id": "3db5724a-90a5-4f28-87a4-453864facf76",
   "metadata": {},
   "source": [
    "##### Scrape all images"
   ]
  },
  {
   "cell_type": "code",
   "execution_count": null,
   "id": "16452dd9-c1f8-44a2-9d2b-f331a857a9f0",
   "metadata": {},
   "outputs": [],
   "source": [
    "for link in soup.find_all('img'):# in html image is represented by the tag <img>\n",
    "    print(link.get('src'))"
   ]
  },
  {
   "cell_type": "code",
   "execution_count": null,
   "id": "96120305-e878-445d-9ddd-5fbf54185319",
   "metadata": {},
   "outputs": [],
   "source": [
    "#'a' tag in HTML:\n",
    "#<a> stands for anchor, and it's used to create hyperlinks (clickable links).\n",
    "#Example\n",
    "#<a href=\"https://www.ibm.com\">IBM</a>\n",
    "#The href attribute (short for hypertext reference) contains the URL or link target.\n",
    "\n",
    "#👉 Why soup.find_all('a') and link.get('href')?\n",
    "#soup.find_all('a'): Finds all anchor tags (<a>) in the HTML.\n",
    "\n",
    "#link.get('href'): Extracts the URL from the href attribute of each <a> tag.\n",
    "\n",
    "#🔹 'img' tag in HTML:\n",
    "#<img> is used to display images on a webpage.\n",
    "\n",
    "#Example\n",
    "#<img src=\"logo.png\" alt=\"Company Logo\">\n",
    "#The src attribute (short for source) tells the browser where the image file is located.\n",
    "\n",
    "#👉 Why soup.find_all('img') and link.get('src')?\n",
    "#soup.find_all('img'): Finds all image tags (<img>).\n",
    "\n",
    "#link.get('src'): Extracts the image URL or path from the src attribute of each image.\n",
    "\n",
    "\n",
    "\n"
   ]
  },
  {
   "cell_type": "markdown",
   "id": "e72033d7-4427-4a1e-8027-5fbe4eb6f8a5",
   "metadata": {},
   "source": [
    "### Scrape data from html tables"
   ]
  },
  {
   "cell_type": "code",
   "execution_count": null,
   "id": "41c27a9a-290e-493c-a7bb-d834a990ddc6",
   "metadata": {},
   "outputs": [],
   "source": [
    "#this url contains the data you need to scrape\n",
    "URL = \"https://cf-courses-data.s3.us.cloud-object-storage.appdomain.cloud/IBM-DA0321EN-SkillsNetwork/labs/datasets/HTMLColorCodes.html\"\n"
   ]
  },
  {
   "cell_type": "markdown",
   "id": "83f15a88-aa29-48b1-a411-67901726ca89",
   "metadata": {},
   "source": [
    "#### The data you need to scrape is the name of the programming language and average annual salary.It is a good idea to open the url in your web broswer and study the contents of the web page before you start to scrape\n",
    "\n"
   ]
  },
  {
   "cell_type": "code",
   "execution_count": null,
   "id": "0c2fb8ec-2b62-4ea2-9e0d-0cf272f957b8",
   "metadata": {},
   "outputs": [],
   "source": [
    "# get the contents of the webpage in text format and store in a variable called data\n",
    "data  = requests.get(URL).text"
   ]
  },
  {
   "cell_type": "code",
   "execution_count": null,
   "id": "6b2b9f90-6bb3-4ecd-b279-4657aa3f801d",
   "metadata": {},
   "outputs": [],
   "source": [
    "soup = BeautifulSoup(data,\"html.parser\")\n",
    "#find a html table in the web page\n",
    "table = soup.find('table') # in html table is represented by the tag <table>"
   ]
  },
  {
   "cell_type": "markdown",
   "id": "116a6277-0a46-44e9-a3ac-7dc440705a41",
   "metadata": {},
   "source": [
    "#### Scrape the Language name and annual average salary."
   ]
  },
  {
   "cell_type": "code",
   "execution_count": null,
   "id": "63a18afb-cb92-4ed1-8d69-239384c52361",
   "metadata": {},
   "outputs": [],
   "source": [
    "for row in table.find_all('tr'): # in html table row is represented by the tag <tr>\n",
    "    # Get all columns in each row.\n",
    "    cols = row.find_all('td') # in html a column is represented by the tag <td>\n",
    "    language_name = cols[2].getText() # store the value in column 3 as color_name\n",
    "    salary = cols[3].getText() # store the value in column 4 as color_code\n",
    "    print(\"{}--->{}\".format(anguage_nam,salary))"
   ]
  },
  {
   "cell_type": "markdown",
   "id": "f2365563-c02d-4420-8a0a-5d7ba10759b6",
   "metadata": {},
   "source": [
    "##### Save the scrapped data into a file named popular-languages.csv"
   ]
  },
  {
   "cell_type": "code",
   "execution_count": null,
   "id": "1dfaac0b-0e7d-4383-baa1-021fa1bcc917",
   "metadata": {},
   "outputs": [],
   "source": [
    "# your code goes here\n",
    "with open('popular-languages.csv', 'w', newline='') as file:\n",
    "    writer = csv.writer(file)\n",
    "    writer.writerow(['Language Name', 'Annual Average Salary'])  # Write header\n",
    "    writer.writerow([language_name, salary])\n"
   ]
  }
 ],
 "metadata": {
  "kernelspec": {
   "display_name": "Python 3 (ipykernel)",
   "language": "python",
   "name": "python3"
  },
  "language_info": {
   "codemirror_mode": {
    "name": "ipython",
    "version": 3
   },
   "file_extension": ".py",
   "mimetype": "text/x-python",
   "name": "python",
   "nbconvert_exporter": "python",
   "pygments_lexer": "ipython3",
   "version": "3.13.2"
  }
 },
 "nbformat": 4,
 "nbformat_minor": 5
}
