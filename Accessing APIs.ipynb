{
 "cells": [
  {
   "cell_type": "markdown",
   "id": "4c56036a-fb0e-4dc0-bae7-c4816e4ce256",
   "metadata": {},
   "source": [
    "# Accessing APIs\n"
   ]
  },
  {
   "cell_type": "markdown",
   "id": "268f3973-d9c1-438c-823a-ce89e9ac26cf",
   "metadata": {},
   "source": [
    "### Install the required libraries"
   ]
  },
  {
   "cell_type": "code",
   "execution_count": null,
   "id": "9f86e13d-8e5c-412b-866d-a47ca3d37c62",
   "metadata": {},
   "outputs": [],
   "source": [
    "!pip install requests\n",
    "!pip install pillow"
   ]
  },
  {
   "cell_type": "markdown",
   "id": "56a5e24c-ad36-4e05-8080-e37c66eaedae",
   "metadata": {},
   "source": [
    "### Requests in Python"
   ]
  },
  {
   "cell_type": "code",
   "execution_count": null,
   "id": "ac5c27ce-8be3-4131-af22-bb706cd627db",
   "metadata": {},
   "outputs": [],
   "source": [
    "import requests\n",
    "import os \n",
    "from PIL import Image\n",
    "from IPython.display import IFrame"
   ]
  },
  {
   "cell_type": "markdown",
   "id": "ba3b9800-1007-49d1-89a6-253cf9ec9873",
   "metadata": {},
   "source": [
    "#### You can make a GET request via the method get to www.ibm.com:"
   ]
  },
  {
   "cell_type": "code",
   "execution_count": null,
   "id": "eb69b399-d90e-4352-b3f5-7a2f48b2fe2f",
   "metadata": {},
   "outputs": [],
   "source": [
    "url='https://www.ibm.com/'\n",
    "r=requests.get(url)\n"
   ]
  },
  {
   "cell_type": "markdown",
   "id": "5b692021-917a-4bb5-acc2-0c93885b18e0",
   "metadata": {},
   "source": [
    "##### We have the response object r, this has information about the request, like the status of the request. You can view the status code using the attribute status_code."
   ]
  },
  {
   "cell_type": "code",
   "execution_count": null,
   "id": "d0a639c0-51db-47df-83aa-a09ab672c076",
   "metadata": {},
   "outputs": [],
   "source": [
    "r.status_code\n",
    "#You can view the request headers:\n",
    "print(r.request.headers)\n",
    "#You can view the request body, in the following line, as there is nobody for a get request we get None:\n",
    "print(\"request body:\", r.request.body)\n"
   ]
  },
  {
   "cell_type": "markdown",
   "id": "2c7dec71-8aaf-4d4e-a1ac-72a75f3b24db",
   "metadata": {},
   "source": [
    "##### You can view the HTTP response header using the attribute headers. This returns a python dictionary of HTTP response headers."
   ]
  },
  {
   "cell_type": "code",
   "execution_count": null,
   "id": "e4e2ec3c-cd46-408b-a6a7-bc53b00f6903",
   "metadata": {},
   "outputs": [],
   "source": [
    "header=r.headers\n",
    "print(r.headers)\n"
   ]
  },
  {
   "cell_type": "code",
   "execution_count": null,
   "id": "b16c264c-7640-4d41-a6b0-abe6d3944add",
   "metadata": {},
   "outputs": [],
   "source": [
    "#You can obtain the date the request was sent using the key Date.\n",
    "header['date']\n",
    "#Content-Type indicates the type of data:\n",
    "header['Content-Type']\n",
    "#You can also check the encoding:\n",
    "r.encoding\n",
    "#As the Content-Type is text/html you can use the attribute text to display the HTML in the body. You can review the first 100 characters:\n",
    "r.text[0:100]\n",
    "\n"
   ]
  },
  {
   "cell_type": "markdown",
   "id": "c76a2ad3-79f2-4641-aa45-093cc1d4e816",
   "metadata": {},
   "source": [
    "#### You can load other types of data for non-text requests, like images. Consider the URL of the following image:"
   ]
  },
  {
   "cell_type": "code",
   "execution_count": null,
   "id": "30583ed7-abff-43d9-a376-ecc160a6b0b7",
   "metadata": {},
   "outputs": [],
   "source": [
    "# Use single quotation marks for defining string\n",
    "url='https://cf-courses-data.s3.us.cloud-object-storage.appdomain.cloud/IBMDeveloperSkillsNetwork-PY0101EN-SkillsNetwork/IDSNlogo.png'\n",
    "#You can make a get request:\n",
    "r=requests.get(url)\n",
    "#You can look at the response header:\n",
    "print(r.headers)\n",
    "#You can see the 'Content-Type'\n",
    "r.headers['Content-Type']\n"
   ]
  },
  {
   "cell_type": "markdown",
   "id": "7a929c50-824c-40ee-8e72-a5eaffea8d39",
   "metadata": {},
   "source": [
    "#### An image is a response object that contains the image as a bytes-like object. As a result, we must save it using a file object. First, you specify the file path and name"
   ]
  },
  {
   "cell_type": "code",
   "execution_count": null,
   "id": "8ad409a4-4c77-4130-9aa9-ceb99e519210",
   "metadata": {},
   "outputs": [],
   "source": [
    "path=os.path.join(os.getcwd(),'image.png')\n"
   ]
  },
  {
   "cell_type": "markdown",
   "id": "4b113a90-90d6-4f1c-a6bc-3d2543488a33",
   "metadata": {},
   "source": [
    "#### You save the file, in order to access the body of the response we use the attribute content then save it using the open function and write method:"
   ]
  },
  {
   "cell_type": "code",
   "execution_count": null,
   "id": "9f4bbca8-8b7a-4eae-adae-ae42de4d79c0",
   "metadata": {},
   "outputs": [],
   "source": [
    "with open(path,'wb') as f:\n",
    "    f.write(r.content)"
   ]
  },
  {
   "cell_type": "code",
   "execution_count": null,
   "id": "4cf7bae7-7494-472e-903c-8fb0129e44df",
   "metadata": {},
   "outputs": [],
   "source": [
    "#You can view the image:\n",
    "Image.open(path)\n"
   ]
  },
  {
   "cell_type": "code",
   "execution_count": null,
   "id": "2d844387-90a3-4e3b-a6f3-155b8db76fd2",
   "metadata": {},
   "outputs": [],
   "source": [
    "#os.getcwd() gets the current working directory — the folder where your Jupyter Notebook or Python script is running.\n",
    "\n",
    "#'image.png' is the filename you want to save the image as.\n",
    "\n",
    "#os.path.join(...) combines the folder path and file name safely into one full file path.\n",
    "#This opens a file in write binary ('wb') mode at the location specified by path.\n",
    "\n",
    "#with automatically handles opening and closing the file.\n",
    "\n",
    "#'wb' means: write in binary mode (because image content is in bytes, not plain text).\n",
    "\n",
    "#✅ f.write(r.content)\n",
    "#r.content contains the raw bytes (binary content) of the image from the API response.\n",
    "\n",
    "#This line writes those bytes into the file — basically, saving the image to your local system.\n",
    "\n",
    "#✅ Image.open(path)\n",
    "#This line opens the saved image file using the Python Imaging Library (PIL).\n",
    "\n",
    "#You can now display, edit, or process the image."
   ]
  },
  {
   "cell_type": "markdown",
   "id": "74dd0dac-feeb-4a32-887e-74f2cabf449d",
   "metadata": {},
   "source": [
    "## Question: Download a file"
   ]
  },
  {
   "cell_type": "code",
   "execution_count": null,
   "id": "5400b67c-dba3-4d46-bd97-6012d7f03d1e",
   "metadata": {},
   "outputs": [],
   "source": [
    "URL = <https://cf-courses-data.s3.us.cloud-object-storage.appdomain.cloud/IBMDeveloperSkillsNetwork-PY0101EN-SkillsNetwork/labs/Module%205/data/Example1.txt\n",
    "\n"
   ]
  },
  {
   "cell_type": "markdown",
   "id": "17028fc8-0fad-40ee-84f8-989bf5d06b3d",
   "metadata": {},
   "source": [
    "###### Write the commands to download the txt file in the given link."
   ]
  },
  {
   "cell_type": "code",
   "execution_count": null,
   "id": "b1e16213-d5d1-477f-aad6-15caee25d6b3",
   "metadata": {},
   "outputs": [],
   "source": [
    "url='https://cf-courses-data.s3.us.cloud-object-storage.appdomain.cloud/IBMDeveloperSkillsNetwork-PY0101EN-SkillsNetwork/labs/Module%205/data/Example1.txt'\n",
    "path=os.path.join(os.getcwd(),'example1.txt')\n",
    "r=requests.get(url)\n",
    "with open(path,'wb') as f:\n",
    "    f.write(r.content)"
   ]
  },
  {
   "cell_type": "markdown",
   "id": "c8a0b937-83b7-446f-ae07-45f377243735",
   "metadata": {},
   "source": [
    "### Get Request with URL Parameters"
   ]
  },
  {
   "cell_type": "markdown",
   "id": "3fc62a48-fbeb-4834-8371-25a0eee9150b",
   "metadata": {},
   "source": [
    "##### \"You can use the GET method to modify the results of your query, for example, retrieving data from an API.\"\n",
    "##### GET method = a type of HTTP request that asks the server for data.\n",
    "##### Modify the results = you can add parameters (extra details) to the URL to control what kind of data you get back.\n",
    "##### https://example.com/api/get-data?country=Canada&year=2024\n",
    "##### /get-data is the route.\n",
    "##### ?country=Canada&year=2024 are URL parameters (also called query strings).\n",
    "##### The API will now return only Canadian data from 2024.\n",
    "##### We send a GET request to the server. As before, we have the Base URL, in the Route we append /get, this indicates we would like to perform a GET request.\"\n",
    "##### Base URL: The main part of the URL (e.g., https://httpbin.org).\n",
    "##### Route: A specific endpoint added to the base URL, like /get.\n",
    "##### When you append /get, you're telling the API:\n",
    "##### 👉 \"Hey, I want to do a GET operation here.\n",
    "##### base_url = 'https://httpbin.org'\n",
    "##### full_url = base_url + '/get'"
   ]
  },
  {
   "cell_type": "markdown",
   "id": "a699086d-4ffc-43fd-8f33-85bb9b72f98d",
   "metadata": {},
   "source": [
    "### The Base URL is for http://httpbin.org/. It is a simple HTTP Request and Response service. The URL in Python is given by:"
   ]
  },
  {
   "cell_type": "code",
   "execution_count": null,
   "id": "3aa15f45-2d11-4b4f-9c7a-eecbb14c4710",
   "metadata": {},
   "outputs": [],
   "source": [
    "url_get='http://httpbin.org/get'"
   ]
  },
  {
   "cell_type": "markdown",
   "id": "c8d08cfc-d2e0-4d51-8e93-97019a15e6a3",
   "metadata": {},
   "source": [
    "##### A query string is the part of a URL that starts with a ? and is used to send extra information to a web server.\n",
    "##### Structure of a Query String:\n",
    "##### ?parameter1=value1&parameter2=value2\n",
    "\n",
    "##### Example:\n",
    "##### https://example.com/get?name=Joseph&ID=123"
   ]
  },
  {
   "cell_type": "code",
   "execution_count": null,
   "id": "5870de71-0ffa-424f-82c4-b6eb2b810aa4",
   "metadata": {},
   "outputs": [],
   "source": [
    "#To create a Query string, add a dictionary. The keys are the parameter names and the values are the value of the Query string.\n",
    "payload={\"name\":\"Joseph\",\"ID\":\"123\"}\n",
    "#Then passing the dictionary payload to the params parameter of the  get() function:\n",
    "r=requests.get(url_get,params=payload)\n",
    "#You can print out the URL and see the name and values.\n",
    "r.url\n",
    "#There is no request body.\n",
    "print(\"request body:\", r.request.body)\n",
    "#You can print out the status code.\n",
    "print(r.status_code)\n",
    "#You can view the response as text:\n",
    "print(r.text)\n",
    "#You can look at the 'Content-Type'.\n",
    "r.headers['Content-Type']\n",
    "#As the content 'Content-Type' is in the JSON format, you can use the method json(), it returns a Python dict:\n",
    "r.json()\n",
    "#The key args has the name and values:\n",
    "r.json()['args']\n",
    "\n"
   ]
  },
  {
   "cell_type": "markdown",
   "id": "a252efa9-21f9-4589-b29e-57267758ef5e",
   "metadata": {},
   "source": [
    "### Post Requests"
   ]
  },
  {
   "cell_type": "markdown",
   "id": "bc3141b4-979a-4b10-bb6a-c6801edecf3a",
   "metadata": {},
   "source": [
    "#### Like a GET request, a POST is used to send data to a server, but the POST request sends the data in a request body. In order to send the Post Request in Python, in the URL you can change the route to POST:"
   ]
  },
  {
   "cell_type": "markdown",
   "id": "c18d4f24-dba7-4513-8e83-b1b52605adda",
   "metadata": {},
   "source": [
    "###### A POST request is used to send data to a server (e.g., submitting a form).\n",
    "###### Unlike a GET request (which sends data in the URL), a POST sends data in the request body (more secure and flexible).\n",
    "###### In Python, to send a POST request, you:\n",
    "###### Set the URL route to something like /post\n",
    "###### Pass the data as a dictionary to the data= parameter in requests.post()\n",
    "\n",
    "#### import requests\n",
    "#### url = 'https://httpbin.org/post'\n",
    "#### data = {'name': 'Joseph', 'ID': 123}\n",
    "#### response = requests.post(url, data=data)\n",
    "#### print(response.text)\n",
    "### This sends name=Joseph and ID=123 to the server using a POST request."
   ]
  },
  {
   "cell_type": "code",
   "execution_count": null,
   "id": "72a7e2ed-19b0-4386-bfe0-7b6fa0a4b3ab",
   "metadata": {},
   "outputs": [],
   "source": [
    "url_post='http://httpbin.org/post'\n",
    "#This endpoint will expect data as a file or as a form. A form is convenient way to configure an HTTP request to send data to a server.\n",
    "\n",
    "#To make a POST request we use the post() function, the variable payload is passed to the parameter  data \n",
    "try:\n",
    "    response = requests.post(url_post, data=payload)\n",
    "    if response.status_code == 200:\n",
    "        print(\"Response JSON:\", response.json()) \n",
    "    else:\n",
    "        print(f\"HTTP Error: {response.status_code} - {response.reason}\")\n",
    "except requests.exceptions.RequestException as e:\n",
    "    print(f\"An error occurred: {e}\")"
   ]
  },
  {
   "cell_type": "code",
   "execution_count": null,
   "id": "f9d44b55-dfe6-4735-b35f-52de55632873",
   "metadata": {},
   "outputs": [],
   "source": [
    "#Comparing the URL from the response object of the GET and POST request you see the POST request has no name or value pairs.\n",
    "print(\"POST request URL:\",response.url )\n",
    "print(\"GET request URL:\",r.url)"
   ]
  },
  {
   "cell_type": "code",
   "execution_count": null,
   "id": "eb2f95b5-288c-45f1-9d17-457aaa8d0ff7",
   "metadata": {},
   "outputs": [],
   "source": [
    "#You can compare the POST and GET request body, you see only the POST request has a body:\n",
    "print(\"POST request body:\",response.request.body)\n",
    "print(\"GET request body:\",r.request.body)\n",
    "#You can view the form as well:\n",
    "response.json()['form']"
   ]
  },
  {
   "cell_type": "code",
   "execution_count": null,
   "id": "87d5596f-728a-43f6-b89c-c63ae1685a8f",
   "metadata": {},
   "outputs": [],
   "source": []
  }
 ],
 "metadata": {
  "kernelspec": {
   "display_name": "Python 3 (ipykernel)",
   "language": "python",
   "name": "python3"
  },
  "language_info": {
   "codemirror_mode": {
    "name": "ipython",
    "version": 3
   },
   "file_extension": ".py",
   "mimetype": "text/x-python",
   "name": "python",
   "nbconvert_exporter": "python",
   "pygments_lexer": "ipython3",
   "version": "3.13.2"
  }
 },
 "nbformat": 4,
 "nbformat_minor": 5
}
